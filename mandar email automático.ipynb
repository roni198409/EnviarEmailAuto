{
 "cells": [
  {
   "cell_type": "code",
   "execution_count": 5,
   "id": "667e3561",
   "metadata": {
    "scrolled": true
   },
   "outputs": [],
   "source": [
    "import os\n",
    "import smtplib\n",
    "from email.message import EmailMessage\n",
    "\n",
    "EMAIL_ADDRESS = 'correaconstrutora3@gmail.com'\n",
    "EMAIL_PASSWORD = '23130909Aa@'\n",
    "\n",
    "msg = (roni198409@gmail.com)\n",
    "msg['Subject'] = 'sou casmpeao' \n",
    "msg['From'] = correaconstrutora3@gmail.com'\n",
    "msg['To'] = 'sou campeao'\n",
    "msg.set_content('Mensagem/vídeo kk')\n",
    "\n",
    "\n",
    "with smtplib.SMTP_SSL('smtp.gmail.com',465) as smtp:\n",
    "    smtp.login(EMAIL_ADDRESS,EMAIL_PASSWORD) \n",
    "    smtp.send_message(msg)"
   ]
  }
 ],
 "metadata": {
  "kernelspec": {
   "display_name": "Python 3 (ipykernel)",
   "language": "python",
   "name": "python3"
  },
  "language_info": {
   "codemirror_mode": {
    "name": "ipython",
    "version": 3
   },
   "file_extension": ".py",
   "mimetype": "text/x-python",
   "name": "python",
   "nbconvert_exporter": "python",
   "pygments_lexer": "ipython3",
   "version": "3.9.7"
  }
 },
 "nbformat": 4,
 "nbformat_minor": 5
}
